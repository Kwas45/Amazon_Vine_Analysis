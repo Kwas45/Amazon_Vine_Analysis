{
  "nbformat": 4,
  "nbformat_minor": 0,
  "metadata": {
    "colab": {
      "name": "Vine_Review_Analysis.ipynb",
      "provenance": [],
      "collapsed_sections": []
    },
    "kernelspec": {
      "name": "python3",
      "display_name": "Python 3"
    },
    "language_info": {
      "name": "python"
    }
  },
  "cells": [
    {
      "cell_type": "code",
      "execution_count": 1,
      "metadata": {
        "colab": {
          "base_uri": "https://localhost:8080/"
        },
        "id": "AfNoYej3P6zX",
        "outputId": "427926bf-be5a-4ca9-fc50-a5f0b72add4f"
      },
      "outputs": [
        {
          "output_type": "stream",
          "name": "stdout",
          "text": [
            "\r0% [Working]\r            \rGet:1 https://cloud.r-project.org/bin/linux/ubuntu bionic-cran40/ InRelease [3,626 B]\n",
            "Hit:2 https://developer.download.nvidia.com/compute/cuda/repos/ubuntu1804/x86_64  InRelease\n",
            "Ign:3 https://developer.download.nvidia.com/compute/machine-learning/repos/ubuntu1804/x86_64  InRelease\n",
            "Hit:4 https://developer.download.nvidia.com/compute/machine-learning/repos/ubuntu1804/x86_64  Release\n",
            "Get:5 http://security.ubuntu.com/ubuntu bionic-security InRelease [88.7 kB]\n",
            "Get:6 https://cloud.r-project.org/bin/linux/ubuntu bionic-cran40/ Packages [87.8 kB]\n",
            "Hit:7 http://archive.ubuntu.com/ubuntu bionic InRelease\n",
            "Get:8 http://ppa.launchpad.net/c2d4u.team/c2d4u4.0+/ubuntu bionic InRelease [15.9 kB]\n",
            "Get:9 http://archive.ubuntu.com/ubuntu bionic-updates InRelease [88.7 kB]\n",
            "Hit:11 http://ppa.launchpad.net/cran/libgit2/ubuntu bionic InRelease\n",
            "Get:12 http://archive.ubuntu.com/ubuntu bionic-backports InRelease [74.6 kB]\n",
            "Hit:13 http://ppa.launchpad.net/deadsnakes/ppa/ubuntu bionic InRelease\n",
            "Hit:14 http://ppa.launchpad.net/graphics-drivers/ppa/ubuntu bionic InRelease\n",
            "Get:15 http://security.ubuntu.com/ubuntu bionic-security/main amd64 Packages [2,905 kB]\n",
            "Get:16 http://archive.ubuntu.com/ubuntu bionic-updates/main amd64 Packages [3,336 kB]\n",
            "Get:17 http://ppa.launchpad.net/c2d4u.team/c2d4u4.0+/ubuntu bionic/main amd64 Packages [1,063 kB]\n",
            "Get:18 http://archive.ubuntu.com/ubuntu bionic-updates/universe amd64 Packages [2,306 kB]\n",
            "Get:19 http://security.ubuntu.com/ubuntu bionic-security/universe amd64 Packages [1,527 kB]\n",
            "Fetched 11.5 MB in 17s (695 kB/s)\n",
            "Reading package lists... Done\n"
          ]
        }
      ],
      "source": [
        "import os\n",
        "# Find the latest version of spark 3.0 from http://www.apache.org/dist/spark/ and enter as the spark version\n",
        "# For example:\n",
        "# spark_version = 'spark-3.0.3'\n",
        "spark_version = 'spark-3.0.3'\n",
        "os.environ['SPARK_VERSION']=spark_version\n",
        "\n",
        "# Install Spark and Java\n",
        "!apt-get update\n",
        "!apt-get install openjdk-11-jdk-headless -qq > /dev/null\n",
        "!wget -q http://www.apache.org/dist/spark/$SPARK_VERSION/$SPARK_VERSION-bin-hadoop2.7.tgz\n",
        "!tar xf $SPARK_VERSION-bin-hadoop2.7.tgz\n",
        "!pip install -q findspark\n",
        "\n",
        "# Set Environment Variables\n",
        "import os\n",
        "os.environ[\"JAVA_HOME\"] = \"/usr/lib/jvm/java-11-openjdk-amd64\"\n",
        "os.environ[\"SPARK_HOME\"] = f\"/content/{spark_version}-bin-hadoop2.7\"\n",
        "\n",
        "# Start a SparkSession\n",
        "import findspark\n",
        "findspark.init()"
      ]
    },
    {
      "cell_type": "code",
      "source": [
        "# Download the Postgres driver that will allow Spark to interact with Postgres.\n",
        "!wget https://jdbc.postgresql.org/download/postgresql-42.2.16.jarb"
      ],
      "metadata": {
        "colab": {
          "base_uri": "https://localhost:8080/"
        },
        "id": "dty5i3eXQvHo",
        "outputId": "02e061e4-c16b-482e-cecb-843a5d004832"
      },
      "execution_count": 2,
      "outputs": [
        {
          "output_type": "stream",
          "name": "stdout",
          "text": [
            "--2022-07-30 20:16:57--  https://jdbc.postgresql.org/download/postgresql-42.2.16.jarb\n",
            "Resolving jdbc.postgresql.org (jdbc.postgresql.org)... 72.32.157.228, 2001:4800:3e1:1::228\n",
            "Connecting to jdbc.postgresql.org (jdbc.postgresql.org)|72.32.157.228|:443... connected.\n",
            "HTTP request sent, awaiting response... 404 Not Found\n",
            "2022-07-30 20:16:59 ERROR 404: Not Found.\n",
            "\n"
          ]
        }
      ]
    },
    {
      "cell_type": "code",
      "source": [
        "from pyspark.sql import SparkSession\n",
        "spark = SparkSession.builder.appName(\"M16-Amazon-Challenge\").config(\"spark.driver.extraClassPath\",\"/content/postgresql-42.2.16.jar\").getOrCreate()"
      ],
      "metadata": {
        "id": "RfLX4D_sQy4t"
      },
      "execution_count": 3,
      "outputs": []
    },
    {
      "cell_type": "code",
      "source": [
        "from pyspark import SparkFiles\n",
        "url = \"https://s3.amazonaws.com/amazon-reviews-pds/tsv/amazon_reviews_us_Luggage_v1_00.tsv.gz\"\n",
        "spark.sparkContext.addFile(url)\n",
        "df = spark.read.csv(SparkFiles.get(\"amazon_reviews_us_Luggage_v1_00.tsv.gz\"), sep=\"\\t\", header=True, inferSchema=True)\n",
        "df.show()"
      ],
      "metadata": {
        "colab": {
          "base_uri": "https://localhost:8080/"
        },
        "id": "gyAke0X8Q3L9",
        "outputId": "f44cc38e-54e0-411a-8250-fbef690ab1cd"
      },
      "execution_count": 4,
      "outputs": [
        {
          "output_type": "stream",
          "name": "stdout",
          "text": [
            "+-----------+-----------+--------------+----------+--------------+--------------------+----------------+-----------+-------------+-----------+----+-----------------+--------------------+--------------------+-----------+\n",
            "|marketplace|customer_id|     review_id|product_id|product_parent|       product_title|product_category|star_rating|helpful_votes|total_votes|vine|verified_purchase|     review_headline|         review_body|review_date|\n",
            "+-----------+-----------+--------------+----------+--------------+--------------------+----------------+-----------+-------------+-----------+----+-----------------+--------------------+--------------------+-----------+\n",
            "|         US|   40884699| R9CO86UUJCAW5|B00VGTN02Y|     786681372|Teenage Mutant Ni...|         Luggage|          3|            0|          0|   N|                Y|my review of this...|my review of this...| 2015-08-31|\n",
            "|         US|   23208852|R3PR8X6QGVJ8B1|B005KIWL0E|     618251799|Kenneth Cole Reac...|         Luggage|          5|            0|          0|   N|                Y|          Five Stars|       Perfect size.| 2015-08-31|\n",
            "|         US|   17100246|R39BO2819ABUPF|B007UNSHJ6|     810480328|American Touriste...|         Luggage|          4|            0|          0|   N|                Y|            so good.|    So far, so good.| 2015-08-31|\n",
            "|         US|   13533670|R3ADL7V6EGGEEP|B00WHFNXB4|      20765193|15.5 Inch Purple ...|         Luggage|          4|            0|          0|   N|                Y|          Four Stars|seems nicely made...| 2015-08-31|\n",
            "|         US|   38541771|R1OXYPBPLVRMI5|B000M5NBYU|     812890709|Port & Company Zi...|         Luggage|          5|            0|          0|   N|                Y|           Dance Bag|Great bag for all...| 2015-08-31|\n",
            "|         US|   12686499|R1WYM8Z5ATQ98O|B00ACBJ89G|     624906499|J World New York ...|         Luggage|          3|            0|          0|   N|                Y|        TOO SMALL!!!|it´s nice BUT it´...| 2015-08-31|\n",
            "|         US|   27767206|R3LCIANTN1H9EC|B001H4BQ1A|     385044506|Voltage Valet Clo...|         Luggage|          4|            1|          1|   N|                Y|          Four Stars|It does the job b...| 2015-08-31|\n",
            "|         US|   46630606|R3U2M23N1P0KQ6|B00ESG6NDK|      51297652|Pro Packing Cubes...|         Luggage|          5|            0|          0|   N|                Y|          Five Stars|          Just fine.| 2015-08-31|\n",
            "|         US|   41622754|R29MB6N7HB6NZI|B00M14SAXC|     832113872|Girl's Dance Duff...|         Luggage|          1|            2|          2|   N|                Y|We were exited to...|We were exited to...| 2015-08-31|\n",
            "|         US|   15296380| RGEQ6DGRG7DQG|B012PC5QAY|     490793867|Disney Inside Out...|         Luggage|          5|            0|          0|   N|                Y|               cute!|Very nice and we'...| 2015-08-31|\n",
            "|         US|   21206415|R38HNH0BSS2KFE|B00VWKWWMG|     356411837|World Traveler 13...|         Luggage|          1|            1|          1|   N|                Y|            One Star|Brought it on vac...| 2015-08-31|\n",
            "|         US|   34554097|R2CATRM9CH59LY|B00N2U14UK|     326835930|Sherpani Trevia C...|         Luggage|          5|            4|          4|   N|                Y|A great bag for t...|I purchased this ...| 2015-08-31|\n",
            "|         US|   42252567|R18DMKNDPJ1BSN|B00K4F45CA|     954517686|Rockland Luggage ...|         Luggage|          5|            0|          1|   N|                Y|             Perfect|Love this light w...| 2015-08-31|\n",
            "|         US|    3532342| RZRSHBWXO3XUQ|B00U57FFA8|      98867907|Allant 16\" Padded...|         Luggage|          5|            0|          0|   N|                Y|it's durable and ...|Purchased this ba...| 2015-08-31|\n",
            "|         US|    7791634|R1BMTNSYCZY1NI|B00ROSRFQ8|     648371973|Polare Manly Real...|         Luggage|          3|            1|          1|   N|                Y|Strong well-made ...|I've had this bag...| 2015-08-31|\n",
            "|         US|    9911099| RPE2S0HZQ9EFP|B003ZV71BM|     406795103|American Flyer Lu...|         Luggage|          5|            0|          0|   N|                Y|          Five Stars|Love love love my...| 2015-08-31|\n",
            "|         US|   46124918|R2OOWJSFPDDA03|B00NJYB2JM|     255715129|Victoriatourist V...|         Luggage|          3|            0|          1|   N|                Y|         Three Stars|Smaller than expe...| 2015-08-31|\n",
            "|         US|     200537|R3EED64ZPXGZ92|B00LD0A4N4|     244117760|EcoCity Vintage C...|         Luggage|          3|            0|          0|   N|                Y|         Three Stars|Within the first ...| 2015-08-31|\n",
            "|         US|    1403856|R1BI8NF6YRH5HD|B00N5GVF6O|     626808161|Bolang Water Resi...|         Luggage|          5|            0|          0|   N|                Y|     Laptop backpack|Nice nice sturdy ...| 2015-08-31|\n",
            "|         US|    8201781| RUD7SDRQTAVMC|B00C75KZPQ|     176437087|Travelon Cosmetic...|         Luggage|          5|            0|          0|   N|                Y|           Fabulous!|Fabulous! Can use...| 2015-08-31|\n",
            "+-----------+-----------+--------------+----------+--------------+--------------------+----------------+-----------+-------------+-----------+----+-----------------+--------------------+--------------------+-----------+\n",
            "only showing top 20 rows\n",
            "\n"
          ]
        }
      ]
    },
    {
      "cell_type": "code",
      "source": [
        "from pyspark.sql.functions import to_date"
      ],
      "metadata": {
        "id": "gvwtfbmORAIt"
      },
      "execution_count": 5,
      "outputs": []
    },
    {
      "cell_type": "code",
      "source": [
        "# Create the vine_table. DataFrame\n",
        "vine_df = df.select([\"review_id\", \"star_rating\", \"helpful_votes\", \"total_votes\", \"vine\", \"verified_purchase\"])\n",
        "vine_df.show()"
      ],
      "metadata": {
        "colab": {
          "base_uri": "https://localhost:8080/"
        },
        "id": "sJPoytu7RBzW",
        "outputId": "d3eac534-35b8-4d33-d7c8-ed20aacf20c4"
      },
      "execution_count": 6,
      "outputs": [
        {
          "output_type": "stream",
          "name": "stdout",
          "text": [
            "+--------------+-----------+-------------+-----------+----+-----------------+\n",
            "|     review_id|star_rating|helpful_votes|total_votes|vine|verified_purchase|\n",
            "+--------------+-----------+-------------+-----------+----+-----------------+\n",
            "| R9CO86UUJCAW5|          3|            0|          0|   N|                Y|\n",
            "|R3PR8X6QGVJ8B1|          5|            0|          0|   N|                Y|\n",
            "|R39BO2819ABUPF|          4|            0|          0|   N|                Y|\n",
            "|R3ADL7V6EGGEEP|          4|            0|          0|   N|                Y|\n",
            "|R1OXYPBPLVRMI5|          5|            0|          0|   N|                Y|\n",
            "|R1WYM8Z5ATQ98O|          3|            0|          0|   N|                Y|\n",
            "|R3LCIANTN1H9EC|          4|            1|          1|   N|                Y|\n",
            "|R3U2M23N1P0KQ6|          5|            0|          0|   N|                Y|\n",
            "|R29MB6N7HB6NZI|          1|            2|          2|   N|                Y|\n",
            "| RGEQ6DGRG7DQG|          5|            0|          0|   N|                Y|\n",
            "|R38HNH0BSS2KFE|          1|            1|          1|   N|                Y|\n",
            "|R2CATRM9CH59LY|          5|            4|          4|   N|                Y|\n",
            "|R18DMKNDPJ1BSN|          5|            0|          1|   N|                Y|\n",
            "| RZRSHBWXO3XUQ|          5|            0|          0|   N|                Y|\n",
            "|R1BMTNSYCZY1NI|          3|            1|          1|   N|                Y|\n",
            "| RPE2S0HZQ9EFP|          5|            0|          0|   N|                Y|\n",
            "|R2OOWJSFPDDA03|          3|            0|          1|   N|                Y|\n",
            "|R3EED64ZPXGZ92|          3|            0|          0|   N|                Y|\n",
            "|R1BI8NF6YRH5HD|          5|            0|          0|   N|                Y|\n",
            "| RUD7SDRQTAVMC|          5|            0|          0|   N|                Y|\n",
            "+--------------+-----------+-------------+-----------+----+-----------------+\n",
            "only showing top 20 rows\n",
            "\n"
          ]
        }
      ]
    },
    {
      "cell_type": "code",
      "source": [
        "# Filter the data and create a new DataFrame or table to retrieve all the rows \n",
        "# where the total_votes count is equal to or greater than 20 to pick reviews that are more likely to be helpful and to avoid having division by zero errors later on.\n",
        "filtered_votes = df.filter(\"total_votes >= 20\")\n",
        "filtered_votes.show()"
      ],
      "metadata": {
        "colab": {
          "base_uri": "https://localhost:8080/"
        },
        "id": "C0798EMgRNB8",
        "outputId": "27a7b511-3915-444f-b846-7033c87e1216"
      },
      "execution_count": 7,
      "outputs": [
        {
          "output_type": "stream",
          "name": "stdout",
          "text": [
            "+-----------+-----------+--------------+----------+--------------+--------------------+----------------+-----------+-------------+-----------+----+-----------------+--------------------+--------------------+-----------+\n",
            "|marketplace|customer_id|     review_id|product_id|product_parent|       product_title|product_category|star_rating|helpful_votes|total_votes|vine|verified_purchase|     review_headline|         review_body|review_date|\n",
            "+-----------+-----------+--------------+----------+--------------+--------------------+----------------+-----------+-------------+-----------+----+-----------------+--------------------+--------------------+-----------+\n",
            "|         US|   20761040|R11IBSD5E6HPSD|B002B3FWXY|     677901073|Travelon Anti-The...|         Luggage|          1|           29|         31|   N|                Y|This bag was on m...|The strap broke!!...| 2015-08-31|\n",
            "|         US|   12318409|R2KVWAYBPWK1OV|B011KEPZG8|     919734058|Iblue Canvas Leat...|         Luggage|          5|           20|         22|   N|                N|My boyfriend woul...|This review is fo...| 2015-08-31|\n",
            "|         US|   25513669|R1FLOE9E4ODIGR|B00VBDT55G|     995661027|Hynes Eagle Trave...|         Luggage|          5|           34|         38|   N|                Y|       It's perfect!|I'm just packing ...| 2015-08-31|\n",
            "|         US|   11235780| R6XTEZCSCUJ4J|B00SXKUEIC|      43152132|AmazonBasics 4 Pi...|         Luggage|          5|           20|         23|   N|                Y|I'm very pleased;...|My husband and I ...| 2015-08-31|\n",
            "|         US|   39789300|R2WVV9LQKIVMOX|B0143MYCKO|     689231091|Shacke Hidden Tra...|         Luggage|          5|           23|         23|   N|                N|Well-organized tr...|This travel pouch...| 2015-08-31|\n",
            "|         US|   18215579| RYIU6GIB4TYT2|B0013KGG7M|     795891549|eBags Medium Pack...|         Luggage|          5|           30|         30|   N|                N|             Success|I was skeptical a...| 2015-08-31|\n",
            "|         US|   32218323| RNXGKYVCJDDL7|B00MVVURAY|     717040416|Samsonite Mightli...|         Luggage|          5|           28|         28|   N|                Y|Bright and Brilli...|LOVE this bag.  T...| 2015-08-31|\n",
            "|         US|    3942987|R1E8V7J0K61754|B00T7CGTMK|     209035441|American Touriste...|         Luggage|          5|           18|         20|   N|                Y|My favourite piec...|This is an awesom...| 2015-08-31|\n",
            "|         US|   32467761| RK52L3B5733BH|B00CHSN59G|     419249340|Briggs & Riley To...|         Luggage|          5|           22|         22|   N|                N|Handsome Piece of...|One of the best b...| 2015-08-31|\n",
            "|         US|   11235780|R213PW7RSI6Z7N|B00SXKUCKC|     662980142|AmazonBasics 4-Pi...|         Luggage|          5|           48|         50|   N|                Y|Very pleased! Hig...|ONLY THING TO CHA...| 2015-08-31|\n",
            "|         US|   25042205| RUBBVNQCSYCDF|B00HB06TK2|     302479496|ECOSUSI Fashion G...|         Luggage|          5|           23|         24|   N|                Y|5 stars as it is ...|My girlfriend lov...| 2015-08-31|\n",
            "|         US|     114023|R3IU65JJME7XHN|B013PSJGOE|     246912840|Dwellbee Medium L...|         Luggage|          5|           25|         27|   N|                N|Perfect and class...|I like this bag a...| 2015-08-31|\n",
            "|         US|   41903386|R25UFG485PAY9U|B00WOJF9JW|     652081834|American Touriste...|         Luggage|          5|           21|         22|   N|                Y|Minnie is built t...|I thought after o...| 2015-08-30|\n",
            "|         US|   49975247|R3V2GWR8BL2801|B002E602C4|     626550759|Piel Leather Larg...|         Luggage|          5|           45|         46|   N|                Y|LOVE! Big Waist R...|I own many waist ...| 2015-08-30|\n",
            "|         US|   43765856|R3ORL5J14E2IV7|B00CPSWD8C|     677901073|Travelon Anti-The...|         Luggage|          5|           27|         28|   N|                Y|Great for travel ...|Got this bag afte...| 2015-08-30|\n",
            "|         US|   23910216|R3KMWBKK1ZWL0I|B00XC6068U|     813755132|Tumi Alpha Bravo ...|         Luggage|          5|           20|         23|   N|                Y|Tumi Backpack if ...|Incredible.  Tumi...| 2015-08-30|\n",
            "|         US|   25659538|R33FFKFYFU92PR|B00M7BGYLO|     446700022|26\" Men's Genuine...|         Luggage|          1|           35|         48|   N|                Y|When this bag arr...|When this bag arr...| 2015-08-30|\n",
            "|         US|    9581789|R2IOC5X92Y742K|B00MQEVGK6|     265236657|Delsey Luggage He...|         Luggage|          3|           36|         40|   N|                N|It's the perfect ...|Honestly, I would...| 2015-08-29|\n",
            "|         US|   50237845|R2YGCTPT3TH9N8|B00QNAJ4MQ|     843737466|Mosey by Baggalli...|         Luggage|          1|           19|         22|   N|                Y|good for giving o...|Wearing a purse a...| 2015-08-29|\n",
            "|         US|   28553148|R2Q3HCPXG31PH1|B00SXKUKK4|     155786156|AmazonBasics 4-Pi...|         Luggage|          1|            1|         20|   N|                Y|Picture misleadin...|Picture misleadin...| 2015-08-29|\n",
            "+-----------+-----------+--------------+----------+--------------+--------------------+----------------+-----------+-------------+-----------+----+-----------------+--------------------+--------------------+-----------+\n",
            "only showing top 20 rows\n",
            "\n"
          ]
        }
      ]
    },
    {
      "cell_type": "code",
      "source": [
        "# Filter the new DataFrame or table created in Step 1 and create a new DataFrame or table to retrieve all the rows where the number of helpful_votes divided by total_votes is equal to or greater than 50%\n",
        "rf_votes = filtered_votes.filter(\"helpful_votes / total_votes >= 0.50\")\n",
        "rf_votes.show()"
      ],
      "metadata": {
        "colab": {
          "base_uri": "https://localhost:8080/"
        },
        "id": "d7EMqvdwTioR",
        "outputId": "2abf3956-370a-4666-abe6-51808306d793"
      },
      "execution_count": 8,
      "outputs": [
        {
          "output_type": "stream",
          "name": "stdout",
          "text": [
            "+-----------+-----------+--------------+----------+--------------+--------------------+----------------+-----------+-------------+-----------+----+-----------------+--------------------+--------------------+-----------+\n",
            "|marketplace|customer_id|     review_id|product_id|product_parent|       product_title|product_category|star_rating|helpful_votes|total_votes|vine|verified_purchase|     review_headline|         review_body|review_date|\n",
            "+-----------+-----------+--------------+----------+--------------+--------------------+----------------+-----------+-------------+-----------+----+-----------------+--------------------+--------------------+-----------+\n",
            "|         US|   20761040|R11IBSD5E6HPSD|B002B3FWXY|     677901073|Travelon Anti-The...|         Luggage|          1|           29|         31|   N|                Y|This bag was on m...|The strap broke!!...| 2015-08-31|\n",
            "|         US|   12318409|R2KVWAYBPWK1OV|B011KEPZG8|     919734058|Iblue Canvas Leat...|         Luggage|          5|           20|         22|   N|                N|My boyfriend woul...|This review is fo...| 2015-08-31|\n",
            "|         US|   25513669|R1FLOE9E4ODIGR|B00VBDT55G|     995661027|Hynes Eagle Trave...|         Luggage|          5|           34|         38|   N|                Y|       It's perfect!|I'm just packing ...| 2015-08-31|\n",
            "|         US|   11235780| R6XTEZCSCUJ4J|B00SXKUEIC|      43152132|AmazonBasics 4 Pi...|         Luggage|          5|           20|         23|   N|                Y|I'm very pleased;...|My husband and I ...| 2015-08-31|\n",
            "|         US|   39789300|R2WVV9LQKIVMOX|B0143MYCKO|     689231091|Shacke Hidden Tra...|         Luggage|          5|           23|         23|   N|                N|Well-organized tr...|This travel pouch...| 2015-08-31|\n",
            "|         US|   18215579| RYIU6GIB4TYT2|B0013KGG7M|     795891549|eBags Medium Pack...|         Luggage|          5|           30|         30|   N|                N|             Success|I was skeptical a...| 2015-08-31|\n",
            "|         US|   32218323| RNXGKYVCJDDL7|B00MVVURAY|     717040416|Samsonite Mightli...|         Luggage|          5|           28|         28|   N|                Y|Bright and Brilli...|LOVE this bag.  T...| 2015-08-31|\n",
            "|         US|    3942987|R1E8V7J0K61754|B00T7CGTMK|     209035441|American Touriste...|         Luggage|          5|           18|         20|   N|                Y|My favourite piec...|This is an awesom...| 2015-08-31|\n",
            "|         US|   32467761| RK52L3B5733BH|B00CHSN59G|     419249340|Briggs & Riley To...|         Luggage|          5|           22|         22|   N|                N|Handsome Piece of...|One of the best b...| 2015-08-31|\n",
            "|         US|   11235780|R213PW7RSI6Z7N|B00SXKUCKC|     662980142|AmazonBasics 4-Pi...|         Luggage|          5|           48|         50|   N|                Y|Very pleased! Hig...|ONLY THING TO CHA...| 2015-08-31|\n",
            "|         US|   25042205| RUBBVNQCSYCDF|B00HB06TK2|     302479496|ECOSUSI Fashion G...|         Luggage|          5|           23|         24|   N|                Y|5 stars as it is ...|My girlfriend lov...| 2015-08-31|\n",
            "|         US|     114023|R3IU65JJME7XHN|B013PSJGOE|     246912840|Dwellbee Medium L...|         Luggage|          5|           25|         27|   N|                N|Perfect and class...|I like this bag a...| 2015-08-31|\n",
            "|         US|   41903386|R25UFG485PAY9U|B00WOJF9JW|     652081834|American Touriste...|         Luggage|          5|           21|         22|   N|                Y|Minnie is built t...|I thought after o...| 2015-08-30|\n",
            "|         US|   49975247|R3V2GWR8BL2801|B002E602C4|     626550759|Piel Leather Larg...|         Luggage|          5|           45|         46|   N|                Y|LOVE! Big Waist R...|I own many waist ...| 2015-08-30|\n",
            "|         US|   43765856|R3ORL5J14E2IV7|B00CPSWD8C|     677901073|Travelon Anti-The...|         Luggage|          5|           27|         28|   N|                Y|Great for travel ...|Got this bag afte...| 2015-08-30|\n",
            "|         US|   23910216|R3KMWBKK1ZWL0I|B00XC6068U|     813755132|Tumi Alpha Bravo ...|         Luggage|          5|           20|         23|   N|                Y|Tumi Backpack if ...|Incredible.  Tumi...| 2015-08-30|\n",
            "|         US|   25659538|R33FFKFYFU92PR|B00M7BGYLO|     446700022|26\" Men's Genuine...|         Luggage|          1|           35|         48|   N|                Y|When this bag arr...|When this bag arr...| 2015-08-30|\n",
            "|         US|    9581789|R2IOC5X92Y742K|B00MQEVGK6|     265236657|Delsey Luggage He...|         Luggage|          3|           36|         40|   N|                N|It's the perfect ...|Honestly, I would...| 2015-08-29|\n",
            "|         US|   50237845|R2YGCTPT3TH9N8|B00QNAJ4MQ|     843737466|Mosey by Baggalli...|         Luggage|          1|           19|         22|   N|                Y|good for giving o...|Wearing a purse a...| 2015-08-29|\n",
            "|         US|   16703363| RL5BOYS5UR4HR|B00C2OEKSK|     900837996|Olympia Luggage C...|         Luggage|          5|           25|         25|   N|                Y|but I wanted some...|I researched many...| 2015-08-29|\n",
            "+-----------+-----------+--------------+----------+--------------+--------------------+----------------+-----------+-------------+-----------+----+-----------------+--------------------+--------------------+-----------+\n",
            "only showing top 20 rows\n",
            "\n"
          ]
        }
      ]
    },
    {
      "cell_type": "code",
      "source": [
        "rf_votes.count()"
      ],
      "metadata": {
        "colab": {
          "base_uri": "https://localhost:8080/"
        },
        "id": "kyaLuMrfJQnx",
        "outputId": "70223ebc-7fe4-4ebf-9b20-ed305c32e359"
      },
      "execution_count": 72,
      "outputs": [
        {
          "output_type": "execute_result",
          "data": {
            "text/plain": [
              "6711"
            ]
          },
          "metadata": {},
          "execution_count": 72
        }
      ]
    },
    {
      "cell_type": "code",
      "source": [
        "# Filter the DataFrame or table created in Step 2, and create a new DataFrame or table that retrieves all the rows where a review was written as part of the Vine program (paid)\n",
        "reviews_paid = rf_votes.filter(rf_votes[\"vine\"] == 'Y')\n",
        "reviews_paid.show()"
      ],
      "metadata": {
        "colab": {
          "base_uri": "https://localhost:8080/"
        },
        "id": "GtJweKppV0ID",
        "outputId": "1778f509-d1a9-4df6-9c66-49d329c9fdeb"
      },
      "execution_count": 9,
      "outputs": [
        {
          "output_type": "stream",
          "name": "stdout",
          "text": [
            "+-----------+-----------+--------------+----------+--------------+--------------------+----------------+-----------+-------------+-----------+----+-----------------+--------------------+--------------------+-----------+\n",
            "|marketplace|customer_id|     review_id|product_id|product_parent|       product_title|product_category|star_rating|helpful_votes|total_votes|vine|verified_purchase|     review_headline|         review_body|review_date|\n",
            "+-----------+-----------+--------------+----------+--------------+--------------------+----------------+-----------+-------------+-----------+----+-----------------+--------------------+--------------------+-----------+\n",
            "|         US|   15225359| RPJ7C4HP3BHXN|B00JR4A83O|     603403193|Fossil Men's Esta...|         Luggage|          5|           25|         29|   Y|                N|Beautiful Leather...|This Fossil bag i...| 2015-08-01|\n",
            "|         US|   53064080|R3SB08XK0M7993|B00SXKUIX8|     905946428|AmazonBasics 4-Pi...|         Luggage|          4|           44|         49|   Y|                N|Nice, basic packi...|I'm a frequent tr...| 2015-07-29|\n",
            "|         US|   43748492|R26X1DACMCN3YF|B00SXKUGHG|     263022671|AmazonBasics 4-Pi...|         Luggage|          3|           16|         21|   Y|                N|VERY small bag: F...|This 4-piece set ...| 2015-07-08|\n",
            "|         US|   52833354|R17HKKDE9ZRVOO|B00SXKUIX8|     905946428|AmazonBasics 4-Pi...|         Luggage|          4|           31|         35|   Y|                N|Good quality, com...|These are very si...| 2015-06-27|\n",
            "|         US|   48691229|R1R7GNSCMO8U7I|B00SXKUIX8|     905946428|AmazonBasics 4-Pi...|         Luggage|          4|           24|         28|   Y|                N|Does the job savi...|I like that Amazo...| 2015-06-26|\n",
            "|         US|   42361759|R2T83WIPG3IX5D|B00SXKU5LI|     803599430|AmazonBasics 4-Pi...|         Luggage|          4|           72|         76|   Y|                N|Nice Product...Bu...|If you are not us...| 2015-06-23|\n",
            "|         US|   14530113| RD006IWFCUA5A|B00SXKU5LI|     803599430|AmazonBasics 4-Pi...|         Luggage|          5|          122|        133|   Y|                N|Packing cubes are...|I am a master pac...| 2015-06-15|\n",
            "|         US|   19812610| REOQCBUVUPXP1|B00MWWQ364|     468963231|Briggs & Riley Tr...|         Luggage|          4|           23|         27|   Y|                N|A well designed b...|I picked this sui...| 2015-05-04|\n",
            "|         US|   49505794|R2336R80ZEOKTX|B00F3Z85IG|     275644753|Eagle Creek Pack-...|         Luggage|          5|           63|         63|   Y|                N|Check out my phot...|A few other peopl...| 2015-05-02|\n",
            "|         US|   51401810| RC1ZXE5GVL9TA|B00F9S81KY|     222866833|Eagle Creek Pack-...|         Luggage|          4|           20|         23|   Y|                N|Some meaningful u...|The single best t...| 2015-05-02|\n",
            "|         US|   41723046|R2J7WSJ8EX3D5S|B00JU927I0|     537716655|Hartmann Vigor Ca...|         Luggage|          5|           30|         32|   Y|                N|Surprisingly ligh...|I travel 2-3 week...| 2015-05-01|\n",
            "|         US|   36857565|R2QSLH5GY4OMNH|B00F9S8RHG|     809537937|Eagle Creek Pack-...|         Luggage|          5|           44|         45|   Y|                N|     Travel in style|PROS: - Facilitat...| 2015-04-29|\n",
            "|         US|   41467824|R2A0F7MYQGBPEG|B00MWWQ364|     468963231|Briggs & Riley Tr...|         Luggage|          4|           33|         40|   Y|                N|      Great Carry-On|The majority of m...| 2015-04-27|\n",
            "|         US|   47770260| R140DK42LYQWL|B00F9S87SA|      62553277|Eagle Creek Pack-...|         Luggage|          4|           62|         65|   Y|                N|Well made, I like...|As a teacher I us...| 2015-04-24|\n",
            "|         US|   52532594|R3HJAGVD491IFV|B00F3Z886U|      84460150|Eagle Creek Pack-...|         Luggage|          5|          105|        105|   Y|                N|     I'm a believer.|I didn't believe ...| 2015-04-23|\n",
            "|         US|   34773146|R2N6KZ8A8T26IR|B00L3NPCBA|     247681464|Briggs & Riley BR...|         Luggage|          1|           24|         26|   Y|                N|Cheap materials a...|I've owned backpa...| 2015-04-20|\n",
            "|         US|   14883720|R2AUGMTZKSPJST|B00MWWQ364|     468963231|Briggs & Riley Tr...|         Luggage|          5|           19|         21|   Y|                N|     Perfect for me!|Perfect for me.  ...| 2015-04-15|\n",
            "|         US|   52532594|R1C3PCFS00UHBA|B00PSQ94NU|     843318781|Solo Ludlow 11 In...|         Luggage|          5|           25|         26|   Y|                N|Attractive case, ...|Very stylish bag,...| 2015-01-17|\n",
            "|         US|   51958405| RY1C7QLDFKZPG|B00K4R1VRA|     434431436|Sherpani Esprit S...|         Luggage|          5|           26|         26|   Y|                N|Versatile, Well M...|I have used a var...| 2014-09-04|\n",
            "|         US|   52928084| R1O5J8O83PI4Q|B00HFRZQCI|     593044203|Sherpani Spirit Y...|         Luggage|          4|           24|         24|   Y|                N|Despite a Few Gri...|First, let me poi...| 2014-07-18|\n",
            "+-----------+-----------+--------------+----------+--------------+--------------------+----------------+-----------+-------------+-----------+----+-----------------+--------------------+--------------------+-----------+\n",
            "only showing top 20 rows\n",
            "\n"
          ]
        }
      ]
    },
    {
      "cell_type": "code",
      "source": [
        "reviews_paid.count()"
      ],
      "metadata": {
        "colab": {
          "base_uri": "https://localhost:8080/"
        },
        "id": "TGhUdY0AEHgl",
        "outputId": "3d9d693e-f809-4dba-c0de-e79b1ec12b7e"
      },
      "execution_count": 67,
      "outputs": [
        {
          "output_type": "execute_result",
          "data": {
            "text/plain": [
              "21"
            ]
          },
          "metadata": {},
          "execution_count": 67
        }
      ]
    },
    {
      "cell_type": "code",
      "source": [
        "# Repeat Step 3, but this time retrieve all the rows where the review was not part of the Vine program (unpaid), vine == 'N'\n",
        "reviews_unpaid = rf_votes.filter(rf_votes[\"vine\"] == 'N')\n",
        "reviews_unpaid.show()"
      ],
      "metadata": {
        "colab": {
          "base_uri": "https://localhost:8080/"
        },
        "id": "mCDmF0R_XeeJ",
        "outputId": "b3cf3f10-6607-4b58-d4fc-850f1f95a257"
      },
      "execution_count": 10,
      "outputs": [
        {
          "output_type": "stream",
          "name": "stdout",
          "text": [
            "+-----------+-----------+--------------+----------+--------------+--------------------+----------------+-----------+-------------+-----------+----+-----------------+--------------------+--------------------+-----------+\n",
            "|marketplace|customer_id|     review_id|product_id|product_parent|       product_title|product_category|star_rating|helpful_votes|total_votes|vine|verified_purchase|     review_headline|         review_body|review_date|\n",
            "+-----------+-----------+--------------+----------+--------------+--------------------+----------------+-----------+-------------+-----------+----+-----------------+--------------------+--------------------+-----------+\n",
            "|         US|   20761040|R11IBSD5E6HPSD|B002B3FWXY|     677901073|Travelon Anti-The...|         Luggage|          1|           29|         31|   N|                Y|This bag was on m...|The strap broke!!...| 2015-08-31|\n",
            "|         US|   12318409|R2KVWAYBPWK1OV|B011KEPZG8|     919734058|Iblue Canvas Leat...|         Luggage|          5|           20|         22|   N|                N|My boyfriend woul...|This review is fo...| 2015-08-31|\n",
            "|         US|   25513669|R1FLOE9E4ODIGR|B00VBDT55G|     995661027|Hynes Eagle Trave...|         Luggage|          5|           34|         38|   N|                Y|       It's perfect!|I'm just packing ...| 2015-08-31|\n",
            "|         US|   11235780| R6XTEZCSCUJ4J|B00SXKUEIC|      43152132|AmazonBasics 4 Pi...|         Luggage|          5|           20|         23|   N|                Y|I'm very pleased;...|My husband and I ...| 2015-08-31|\n",
            "|         US|   39789300|R2WVV9LQKIVMOX|B0143MYCKO|     689231091|Shacke Hidden Tra...|         Luggage|          5|           23|         23|   N|                N|Well-organized tr...|This travel pouch...| 2015-08-31|\n",
            "|         US|   18215579| RYIU6GIB4TYT2|B0013KGG7M|     795891549|eBags Medium Pack...|         Luggage|          5|           30|         30|   N|                N|             Success|I was skeptical a...| 2015-08-31|\n",
            "|         US|   32218323| RNXGKYVCJDDL7|B00MVVURAY|     717040416|Samsonite Mightli...|         Luggage|          5|           28|         28|   N|                Y|Bright and Brilli...|LOVE this bag.  T...| 2015-08-31|\n",
            "|         US|    3942987|R1E8V7J0K61754|B00T7CGTMK|     209035441|American Touriste...|         Luggage|          5|           18|         20|   N|                Y|My favourite piec...|This is an awesom...| 2015-08-31|\n",
            "|         US|   32467761| RK52L3B5733BH|B00CHSN59G|     419249340|Briggs & Riley To...|         Luggage|          5|           22|         22|   N|                N|Handsome Piece of...|One of the best b...| 2015-08-31|\n",
            "|         US|   11235780|R213PW7RSI6Z7N|B00SXKUCKC|     662980142|AmazonBasics 4-Pi...|         Luggage|          5|           48|         50|   N|                Y|Very pleased! Hig...|ONLY THING TO CHA...| 2015-08-31|\n",
            "|         US|   25042205| RUBBVNQCSYCDF|B00HB06TK2|     302479496|ECOSUSI Fashion G...|         Luggage|          5|           23|         24|   N|                Y|5 stars as it is ...|My girlfriend lov...| 2015-08-31|\n",
            "|         US|     114023|R3IU65JJME7XHN|B013PSJGOE|     246912840|Dwellbee Medium L...|         Luggage|          5|           25|         27|   N|                N|Perfect and class...|I like this bag a...| 2015-08-31|\n",
            "|         US|   41903386|R25UFG485PAY9U|B00WOJF9JW|     652081834|American Touriste...|         Luggage|          5|           21|         22|   N|                Y|Minnie is built t...|I thought after o...| 2015-08-30|\n",
            "|         US|   49975247|R3V2GWR8BL2801|B002E602C4|     626550759|Piel Leather Larg...|         Luggage|          5|           45|         46|   N|                Y|LOVE! Big Waist R...|I own many waist ...| 2015-08-30|\n",
            "|         US|   43765856|R3ORL5J14E2IV7|B00CPSWD8C|     677901073|Travelon Anti-The...|         Luggage|          5|           27|         28|   N|                Y|Great for travel ...|Got this bag afte...| 2015-08-30|\n",
            "|         US|   23910216|R3KMWBKK1ZWL0I|B00XC6068U|     813755132|Tumi Alpha Bravo ...|         Luggage|          5|           20|         23|   N|                Y|Tumi Backpack if ...|Incredible.  Tumi...| 2015-08-30|\n",
            "|         US|   25659538|R33FFKFYFU92PR|B00M7BGYLO|     446700022|26\" Men's Genuine...|         Luggage|          1|           35|         48|   N|                Y|When this bag arr...|When this bag arr...| 2015-08-30|\n",
            "|         US|    9581789|R2IOC5X92Y742K|B00MQEVGK6|     265236657|Delsey Luggage He...|         Luggage|          3|           36|         40|   N|                N|It's the perfect ...|Honestly, I would...| 2015-08-29|\n",
            "|         US|   50237845|R2YGCTPT3TH9N8|B00QNAJ4MQ|     843737466|Mosey by Baggalli...|         Luggage|          1|           19|         22|   N|                Y|good for giving o...|Wearing a purse a...| 2015-08-29|\n",
            "|         US|   16703363| RL5BOYS5UR4HR|B00C2OEKSK|     900837996|Olympia Luggage C...|         Luggage|          5|           25|         25|   N|                Y|but I wanted some...|I researched many...| 2015-08-29|\n",
            "+-----------+-----------+--------------+----------+--------------+--------------------+----------------+-----------+-------------+-----------+----+-----------------+--------------------+--------------------+-----------+\n",
            "only showing top 20 rows\n",
            "\n"
          ]
        }
      ]
    },
    {
      "cell_type": "code",
      "source": [
        "reviews_unpaid.count()"
      ],
      "metadata": {
        "colab": {
          "base_uri": "https://localhost:8080/"
        },
        "id": "LWGTWxiNERUx",
        "outputId": "d9f4855b-f7e5-4572-a50a-548c90152b2d"
      },
      "execution_count": 68,
      "outputs": [
        {
          "output_type": "execute_result",
          "data": {
            "text/plain": [
              "6690"
            ]
          },
          "metadata": {},
          "execution_count": 68
        }
      ]
    },
    {
      "cell_type": "code",
      "source": [
        "# Determine the total number of reviews, the number of 5-star reviews, and the percentage of 5-star reviews for the two types of review (paid vs unpaid).\n",
        "# Total Review\n",
        "total_reviews = df.select([\"review_id\"]).count\n",
        "total_reviews()"
      ],
      "metadata": {
        "colab": {
          "base_uri": "https://localhost:8080/"
        },
        "id": "broki3TFjY5h",
        "outputId": "f7b30eeb-f2f5-4ee5-8eda-275959e0c6a8"
      },
      "execution_count": 11,
      "outputs": [
        {
          "output_type": "execute_result",
          "data": {
            "text/plain": [
              "348657"
            ]
          },
          "metadata": {},
          "execution_count": 11
        }
      ]
    },
    {
      "cell_type": "code",
      "source": [
        "# Paid Reviews\n",
        "total_reviews_paid = reviews_paid.count()\n",
        "reviews_paid.count()"
      ],
      "metadata": {
        "colab": {
          "base_uri": "https://localhost:8080/"
        },
        "id": "T0pk-XDBXvPv",
        "outputId": "e4478a65-f9f1-4863-8a95-f6fde0b959f5"
      },
      "execution_count": 12,
      "outputs": [
        {
          "output_type": "execute_result",
          "data": {
            "text/plain": [
              "21"
            ]
          },
          "metadata": {},
          "execution_count": 12
        }
      ]
    },
    {
      "cell_type": "code",
      "source": [
        "# Unpaid Reviews\n",
        "total_reviews_unpaid = reviews_unpaid.count()\n",
        "reviews_unpaid.count()"
      ],
      "metadata": {
        "colab": {
          "base_uri": "https://localhost:8080/"
        },
        "id": "j38mN6VFbx_k",
        "outputId": "af4d932d-81e9-48a3-8a61-a7560bd98ef9"
      },
      "execution_count": 13,
      "outputs": [
        {
          "output_type": "execute_result",
          "data": {
            "text/plain": [
              "6690"
            ]
          },
          "metadata": {},
          "execution_count": 13
        }
      ]
    },
    {
      "cell_type": "code",
      "source": [
        "# The number of 5-star reviews paid\n",
        "five_star_paid = reviews_paid.filter(reviews_paid[\"star_rating\"] == \"5\")\n",
        "five_star_paid.count()"
      ],
      "metadata": {
        "colab": {
          "base_uri": "https://localhost:8080/"
        },
        "id": "VobpXghZdlGk",
        "outputId": "68df9b94-7843-4119-8411-432ec4acb3a3"
      },
      "execution_count": 14,
      "outputs": [
        {
          "output_type": "execute_result",
          "data": {
            "text/plain": [
              "10"
            ]
          },
          "metadata": {},
          "execution_count": 14
        }
      ]
    },
    {
      "cell_type": "code",
      "source": [
        "# The number of 5-star reviews unpaid\n",
        "five_star_unpaid = reviews_unpaid.filter(reviews_unpaid[\"star_rating\"] == \"5\")\n",
        "five_star_unpaid.count()"
      ],
      "metadata": {
        "colab": {
          "base_uri": "https://localhost:8080/"
        },
        "id": "BrTDupCogbJV",
        "outputId": "c04bd03d-d261-4034-f9bc-2c4317ade876"
      },
      "execution_count": 15,
      "outputs": [
        {
          "output_type": "execute_result",
          "data": {
            "text/plain": [
              "3448"
            ]
          },
          "metadata": {},
          "execution_count": 15
        }
      ]
    },
    {
      "cell_type": "code",
      "source": [
        "all_vine = df.filter(df[\"Vine\"] == \"Y\")\n",
        "not_vine = df.filter(df[\"vine\"] == \"N\")\n",
        "fivestar = all_vine.filter(all_vine[\"star_rating\"] == 5)\n",
        "not_fivestar = not_vine.filter(not_vine[\"star_rating\"] == 5)"
      ],
      "metadata": {
        "id": "7wJrPTCShccf"
      },
      "execution_count": 46,
      "outputs": []
    },
    {
      "cell_type": "code",
      "source": [
        "# The percentage of 5-star reviews paid\n",
        "fivestar_paid_perc = (fivestar.count()/all_vine.count()) * 100\n",
        "print(fivestar_paid_perc)"
      ],
      "metadata": {
        "colab": {
          "base_uri": "https://localhost:8080/"
        },
        "id": "InaXKGCl6Q5L",
        "outputId": "a31c6dc4-deda-4ab8-a06b-3dff21f4e339"
      },
      "execution_count": 50,
      "outputs": [
        {
          "output_type": "stream",
          "name": "stdout",
          "text": [
            "52.21238938053098\n"
          ]
        }
      ]
    },
    {
      "cell_type": "code",
      "source": [
        "# The percentage of 5-star reviews unpaid\n",
        "fivestar_unpaid_perc = (not_fivestar.count()/not_vine.count()) * 100\n",
        "print(fivestar_unpaid_perc)"
      ],
      "metadata": {
        "colab": {
          "base_uri": "https://localhost:8080/"
        },
        "id": "8ahBza7z6FFl",
        "outputId": "d653e08e-6795-4a63-b4e4-c53be8499be9"
      },
      "execution_count": 52,
      "outputs": [
        {
          "output_type": "stream",
          "name": "stdout",
          "text": [
            "62.12073720262145\n"
          ]
        }
      ]
    },
    {
      "cell_type": "code",
      "source": [
        "all_vine.show()"
      ],
      "metadata": {
        "colab": {
          "base_uri": "https://localhost:8080/"
        },
        "id": "n1Vz-IWLEmgT",
        "outputId": "84ae54f0-689a-42f5-b425-711aa391662c"
      },
      "execution_count": 71,
      "outputs": [
        {
          "output_type": "stream",
          "name": "stdout",
          "text": [
            "+-----------+-----------+--------------+----------+--------------+--------------------+----------------+-----------+-------------+-----------+----+-----------------+--------------------+--------------------+-----------+\n",
            "|marketplace|customer_id|     review_id|product_id|product_parent|       product_title|product_category|star_rating|helpful_votes|total_votes|vine|verified_purchase|     review_headline|         review_body|review_date|\n",
            "+-----------+-----------+--------------+----------+--------------+--------------------+----------------+-----------+-------------+-----------+----+-----------------+--------------------+--------------------+-----------+\n",
            "|         US|   52851692| RWXIAG7MG39J4|B00UUGICCW|     236790043|Sherpani Amelia B...|         Luggage|          5|            0|          0|   Y|                N|stylish as either...|Love this bag.  W...| 2015-08-31|\n",
            "|         US|   52913856|R3CDJ91K76HWCY|B00M3TJDKE|     691863261|Tumi Tegra Lite M...|         Luggage|          5|            0|          1|   Y|                N|        Tumi Quality|The quality is ou...| 2015-08-28|\n",
            "|         US|   49299352|R1VXZ06Z6R31X2|B00JR4A83O|     603403193|Fossil Men's Esta...|         Luggage|          5|            3|          5|   Y|                N|Perfect for using...|Such a smooth lea...| 2015-08-28|\n",
            "|         US|   52433849|R2PBJ65HXTLUIV|B00N2UU05A|      42175316|Sherpani Vespa Mu...|         Luggage|          4|            1|          1|   Y|                N|  Stylish light pack|This is a very ni...| 2015-08-27|\n",
            "|         US|   51903105|R3NNLH4P473UHS|B00KOLDID6|      66319045|Eagle Creek Pack-...|         Luggage|          2|            0|          0|   Y|                N|Good idea, but si...|I'm very underwhe...| 2015-08-26|\n",
            "|         US|   53060203|R11HWLSG36EATO|B00M3TJHCI|     673626396|Tumi Tegra-Lite M...|         Luggage|          5|            0|          1|   Y|                N|Well designed lug...|Tumi is well know...| 2015-08-25|\n",
            "|         US|   42689422| RHSXW4RPA62HS|B00KOLDID6|      66319045|Eagle Creek Pack-...|         Luggage|          3|            0|          1|   Y|                N|Meh..OK I guess, ...|When I watched th...| 2015-08-24|\n",
            "|         US|   26997075|R2963ROC4HYDLD|B00M3TJHCI|     673626396|Tumi Tegra-Lite M...|         Luggage|          5|            2|          3|   Y|                N|An incredible pie...|I waited to post ...| 2015-08-24|\n",
            "|         US|   51369093| RWPSHFEXQ5MG3|B00UUGIKL0|     585492116|Sherpani Havana B...|         Luggage|          4|            2|          4|   Y|                N|Really attractive...|I was surprised h...| 2015-08-24|\n",
            "|         US|   50796748| RI2HVKJ5OIWVR|B00N2UU05A|      42175316|Sherpani Vespa Mu...|         Luggage|          5|            3|          4|   Y|                N|From City Streets...|This Sherpani Ves...| 2015-08-24|\n",
            "|         US|   50304462|R13V2UJF8N0134|B00M3TJDKE|     691863261|Tumi Tegra Lite M...|         Luggage|          5|            2|          2|   Y|                N|Beautiful, Well M...|This beautiful ca...| 2015-08-23|\n",
            "|         US|   11940388| RPSVEKL8JFVON|B00KOLDID6|      66319045|Eagle Creek Pack-...|         Luggage|          5|            0|          0|   Y|                N|Terrific idea. At...|Terrific idea. At...| 2015-08-22|\n",
            "|         US|   20645294| RKB0CDCVHQP3K|B00KOLDID6|      66319045|Eagle Creek Pack-...|         Luggage|          3|            1|          1|   Y|                N|These are much th...|People who are us...| 2015-08-20|\n",
            "|         US|   21258499|R31MM8O8OVOVV1|B00UUGIKL0|     585492116|Sherpani Havana B...|         Luggage|          5|            0|          0|   Y|                N|Classy Bag for An...|What a great look...| 2015-08-19|\n",
            "|         US|   49905373|R149ISO7W6AEVG|B00N2UU05A|      42175316|Sherpani Vespa Mu...|         Luggage|          5|            1|          1|   Y|                N|The perfect size ...|The Sherpa has ro...| 2015-08-19|\n",
            "|         US|   47995491|R2ND845OGJGQYG|B00UUGICCW|     236790043|Sherpani Amelia B...|         Luggage|          5|            2|          2|   Y|                N|Great for High Sc...|My 14-year-old da...| 2015-08-19|\n",
            "|         US|   49585864| RC405DZHPTHX9|B00UUGICCW|     236790043|Sherpani Amelia B...|         Luggage|          5|            1|          1|   Y|                N|Gorgeous, well-ma...|I dithered for da...| 2015-08-19|\n",
            "|         US|   50373217|R144U7PJ79YR7R|B00KOLDID6|      66319045|Eagle Creek Pack-...|         Luggage|          4|            0|          0|   Y|                N|Good product. Wri...|Recently, I recei...| 2015-08-18|\n",
            "|         US|   52961879|R3R83MEJCTWDKP|B00UUGIKL0|     585492116|Sherpani Havana B...|         Luggage|          4|            1|          2|   Y|                N|The Sherpani Hava...|The Sherpani Hava...| 2015-08-18|\n",
            "|         US|   52653097| R54S4DP37CR8D|B00N2UU05A|      42175316|Sherpani Vespa Mu...|         Luggage|          5|            1|          2|   Y|                N|A classy alternat...|I'm not a fan of ...| 2015-08-18|\n",
            "+-----------+-----------+--------------+----------+--------------+--------------------+----------------+-----------+-------------+-----------+----+-----------------+--------------------+--------------------+-----------+\n",
            "only showing top 20 rows\n",
            "\n"
          ]
        }
      ]
    },
    {
      "cell_type": "code",
      "source": [
        "all_vine.count()"
      ],
      "metadata": {
        "colab": {
          "base_uri": "https://localhost:8080/"
        },
        "id": "zLhTkMYNhdsL",
        "outputId": "83561fe4-c449-4214-cfbb-db81f38de798"
      },
      "execution_count": 70,
      "outputs": [
        {
          "output_type": "execute_result",
          "data": {
            "text/plain": [
              "904"
            ]
          },
          "metadata": {},
          "execution_count": 70
        }
      ]
    },
    {
      "cell_type": "code",
      "source": [
        "not_vine.count()"
      ],
      "metadata": {
        "colab": {
          "base_uri": "https://localhost:8080/"
        },
        "id": "sRO-hAhN-1B4",
        "outputId": "4f31c78a-2469-4057-ae1e-79eba311444d"
      },
      "execution_count": 64,
      "outputs": [
        {
          "output_type": "execute_result",
          "data": {
            "text/plain": [
              "347747"
            ]
          },
          "metadata": {},
          "execution_count": 64
        }
      ]
    },
    {
      "cell_type": "code",
      "source": [
        "fivestar.count()"
      ],
      "metadata": {
        "colab": {
          "base_uri": "https://localhost:8080/"
        },
        "id": "L6k046kf-2pV",
        "outputId": "8a1f569e-d414-4dd2-8330-6b0dccb7ef71"
      },
      "execution_count": 65,
      "outputs": [
        {
          "output_type": "execute_result",
          "data": {
            "text/plain": [
              "472"
            ]
          },
          "metadata": {},
          "execution_count": 65
        }
      ]
    },
    {
      "cell_type": "code",
      "source": [
        "not_fivestar.count()"
      ],
      "metadata": {
        "colab": {
          "base_uri": "https://localhost:8080/"
        },
        "id": "HdATMWC--zlR",
        "outputId": "4d7b9b61-0d95-4e46-bf59-5e0179ab01f5"
      },
      "execution_count": 66,
      "outputs": [
        {
          "output_type": "execute_result",
          "data": {
            "text/plain": [
              "216023"
            ]
          },
          "metadata": {},
          "execution_count": 66
        }
      ]
    }
  ]
}